{
 "cells": [
  {
   "cell_type": "markdown",
   "metadata": {},
   "source": [
    "# SMART LIVE CAMERA NOTEBOOK"
   ]
  },
  {
   "cell_type": "markdown",
   "metadata": {},
   "source": [
    "## Necessary modules"
   ]
  },
  {
   "cell_type": "code",
   "execution_count": 2,
   "metadata": {
    "collapsed": false
   },
   "outputs": [],
   "source": [
    "# Import Modules\n",
    "from __future__ import print_function\n",
    "import matplotlib.pyplot as plt\n",
    "import numpy as np\n",
    "import tensorflow as tf\n",
    "import os\n",
    "import sys\n",
    "import tarfile\n",
    "import seaborn\n",
    "import random\n",
    "from tensorflow.examples.tutorials.mnist import input_data\n",
    "from IPython.display import display, Image\n",
    "from scipy import ndimage\n",
    "from scipy.io import loadmat\n",
    "from six.moves.urllib.request import urlretrieve\n",
    "from six.moves import cPickle as pickle\n",
    "\n",
    "# Config the matlotlib backend as plotting inline in IPython\n",
    "%matplotlib inline"
   ]
  },
  {
   "cell_type": "markdown",
   "metadata": {},
   "source": [
    "## Generic functions"
   ]
  },
  {
   "cell_type": "markdown",
   "metadata": {},
   "source": [
    "### Data Preprocessing Functions"
   ]
  },
  {
   "cell_type": "code",
   "execution_count": 1,
   "metadata": {
    "collapsed": true
   },
   "outputs": [],
   "source": [
    "last_percent_reported = None\n",
    "num_classes = 10\n",
    "\n",
    "def download_progress_hook(count, blockSize, totalSize):\n",
    "  \"\"\"A hook to report the progress of a download. This is mostly intended for users with\n",
    "  slow internet connections. Reports every 1% change in download progress.\n",
    "  \"\"\"\n",
    "  global last_percent_reported\n",
    "  percent = int(count * blockSize * 100 / totalSize)\n",
    "\n",
    "  if last_percent_reported != percent:\n",
    "    if percent % 5 == 0:\n",
    "      sys.stdout.write(\"%s%%\" % percent)\n",
    "      sys.stdout.flush()\n",
    "    else:\n",
    "      sys.stdout.write(\".\")\n",
    "      sys.stdout.flush()\n",
    "      \n",
    "    last_percent_reported = percent\n",
    "        \n",
    "def maybe_download(filename, expected_bytes, force=False):\n",
    "  \"\"\"Download a file if not present, and make sure it's the right size.\"\"\"\n",
    "  if force or not os.path.exists(filename):\n",
    "    print('Attempting to download:', filename) \n",
    "    filename, _ = urlretrieve(url + filename, filename, reporthook=download_progress_hook)\n",
    "    print('\\nDownload Complete!')\n",
    "  statinfo = os.stat(filename)\n",
    "  if statinfo.st_size == expected_bytes:\n",
    "    print('Found and verified', filename)\n",
    "  else:\n",
    "    raise Exception(\n",
    "      'Failed to verify ' + filename + '. Can you get to it with a browser?')\n",
    "  return filename\n",
    "\n",
    "def maybe_extract(filename, force=False):\n",
    "  \"\"\"Extract a file (tar). If force=True, override the current files and folders\"\"\"\n",
    "  root = os.path.splitext(os.path.splitext(filename)[0])[0]  # remove .tar.gz\n",
    "  if os.path.isdir(root) and not force:\n",
    "    # You may override by setting force=True.\n",
    "    print('%s already present - Skipping extraction of %s.' % (root, filename))\n",
    "  else:\n",
    "    print('Extracting data for %s. This may take a while. Please wait.' % root)\n",
    "    tar = tarfile.open(filename)\n",
    "    sys.stdout.flush()\n",
    "    tar.extractall()\n",
    "    tar.close()\n",
    "  data_folders = [\n",
    "    os.path.join(root, d) for d in sorted(os.listdir(root))\n",
    "    if os.path.isdir(os.path.join(root, d))]\n",
    "  if len(data_folders) != num_classes:\n",
    "    raise Exception(\n",
    "      'Expected %d folders, one per class. Found %d instead.' % (\n",
    "        num_classes, len(data_folders)))\n",
    "  print(data_folders)\n",
    "  return data_folders"
   ]
  },
  {
   "cell_type": "markdown",
   "metadata": {},
   "source": [
    "### Eval Functions"
   ]
  },
  {
   "cell_type": "code",
   "execution_count": 3,
   "metadata": {
    "collapsed": true
   },
   "outputs": [],
   "source": [
    "def accuracy(predictions, labels):\n",
    "  return (100.0 * np.sum(np.argmax(predictions, 1) == np.argmax(labels, 1))\n",
    "          / predictions.shape[0])"
   ]
  },
  {
   "cell_type": "markdown",
   "metadata": {},
   "source": [
    "## 1. STEP ONE: MNIST DATA"
   ]
  },
  {
   "cell_type": "markdown",
   "metadata": {},
   "source": [
    "### Downloading data"
   ]
  },
  {
   "cell_type": "code",
   "execution_count": 7,
   "metadata": {
    "collapsed": false
   },
   "outputs": [
    {
     "name": "stdout",
     "output_type": "stream",
     "text": [
      "Extracting MNIST_data/train-images-idx3-ubyte.gz\n",
      "Extracting MNIST_data/train-labels-idx1-ubyte.gz\n",
      "Extracting MNIST_data/t10k-images-idx3-ubyte.gz\n",
      "Extracting MNIST_data/t10k-labels-idx1-ubyte.gz\n"
     ]
    }
   ],
   "source": [
    "mnist = input_data.read_data_sets('MNIST_data/', one_hot=True)\n",
    "mnist_test_dataset = mnist.test.images\n",
    "mnist_test_labels = mnist.test.labels\n",
    "mnist_valid_dataset = mnist.validation.images\n",
    "mnist_valid_labels = mnist.validation.labels"
   ]
  },
  {
   "cell_type": "markdown",
   "metadata": {},
   "source": [
    "### Simple Logistic Regression (Boilerplate)"
   ]
  },
  {
   "cell_type": "code",
   "execution_count": 18,
   "metadata": {
    "collapsed": false
   },
   "outputs": [
    {
     "name": "stdout",
     "output_type": "stream",
     "text": [
      "Minibatch loss at step 0: 11.956044\n",
      "Minibatch accuracy: 0.0%\n",
      "Validation accuracy: 12.2%\n",
      "Minibatch loss at step 500: 0.679620\n",
      "Minibatch accuracy: 0.0%\n",
      "Validation accuracy: 87.1%\n",
      "Minibatch loss at step 1000: 0.233264\n",
      "Minibatch accuracy: 0.0%\n",
      "Validation accuracy: 88.6%\n",
      "Minibatch loss at step 1500: 0.482689\n",
      "Minibatch accuracy: 0.0%\n",
      "Validation accuracy: 89.9%\n",
      "Minibatch loss at step 2000: 0.421654\n",
      "Minibatch accuracy: 0.0%\n",
      "Validation accuracy: 90.3%\n",
      "Minibatch loss at step 2500: 0.238978\n",
      "Minibatch accuracy: 0.0%\n",
      "Validation accuracy: 90.7%\n",
      "Minibatch loss at step 3000: 0.410421\n",
      "Minibatch accuracy: 0.0%\n",
      "Validation accuracy: 90.4%\n",
      "Test accuracy: 90.0%\n"
     ]
    }
   ],
   "source": [
    "# Defining Params\n",
    "image_size = 28 # 28px \n",
    "num_labels = 10 # 0-9\n",
    "\n",
    "# Defining the Graph\n",
    "graph = tf.Graph()\n",
    "\n",
    "with graph.as_default():\n",
    "  # Input init and constant init. According to the theory \n",
    "  tf_train_dataset = tf.placeholder(tf.float32, shape=(None, image_size * image_size)) \n",
    "  tf_train_labels = tf.placeholder(tf.float32, shape=(None, num_labels)) \n",
    "  tf_valid_dataset = tf.constant(mnist_valid_dataset) \n",
    "  tf_test_dataset = tf.constant(mnist_test_dataset)\n",
    "  \n",
    "  # Variables.\n",
    "  weights = tf.Variable(tf.truncated_normal([image_size * image_size, num_labels])) # mean0,low std dev, random values\n",
    "  biases = tf.Variable(tf.zeros([num_labels])) # zeros\n",
    "  \n",
    "  # Training computation.\n",
    "  logits = tf.matmul(tf_train_dataset, weights) + biases # logistic regression\n",
    "  loss = tf.reduce_mean(\n",
    "    tf.nn.softmax_cross_entropy_with_logits(logits, tf_train_labels)) # loss function based on softmax-cross entropy\n",
    "  \n",
    "  # Optimizer.\n",
    "  optimizer = tf.train.GradientDescentOptimizer(0.5).minimize(loss) # GD Optimizer\n",
    "  \n",
    "  # Predictions for the training, validation, and test data. (Probabilities)\n",
    "  train_prediction = tf.nn.softmax(logits) \n",
    "  valid_prediction = tf.nn.softmax(tf.matmul(mnist_valid_dataset, weights) + biases) \n",
    "  test_prediction = tf.nn.softmax(tf.matmul(mnist_test_dataset, weights) + biases)\n",
    "  \n",
    "  \n",
    "# Defining hyper-parameters\n",
    "batch_size = 128\n",
    "num_steps = 3001\n",
    "\n",
    "with tf.Session(graph=graph) as session:\n",
    "  tf.initialize_all_variables().run()\n",
    "  for step in range(num_steps):\n",
    "    batch_data, batch_labels = mnist.train.next_batch(batch_size)\n",
    "    # Dict preparation and run training\n",
    "    feed_dict = {tf_train_dataset : batch_data, tf_train_labels : batch_labels}\n",
    "    _, l, predictions = session.run([optimizer, loss, train_prediction], feed_dict=feed_dict) \n",
    "    if (step % 500 == 0):\n",
    "      print(\"Minibatch loss at step %d: %f\" % (step, l))\n",
    "      print(\"Minibatch accuracy: %.1f%%\" % accuracy(batch_data, batch_labels))\n",
    "      print(\"Validation accuracy: %.1f%%\" % accuracy(valid_prediction.eval(), mnist_valid_labels))\n",
    "    \n",
    "  print(\"Test accuracy: %.1f%%\" % accuracy(test_prediction.eval(), mnist_test_labels))"
   ]
  },
  {
   "cell_type": "markdown",
   "metadata": {},
   "source": [
    "### 1-Layer Hidden NN"
   ]
  },
  {
   "cell_type": "code",
   "execution_count": 20,
   "metadata": {
    "collapsed": false
   },
   "outputs": [
    {
     "name": "stdout",
     "output_type": "stream",
     "text": [
      "Minibatch loss at step 0: 285.738281\n",
      "Minibatch accuracy: 0.0%\n",
      "Validation accuracy: 37.6%\n",
      "Minibatch loss at step 500: 1.170302\n",
      "Minibatch accuracy: 0.0%\n",
      "Validation accuracy: 93.4%\n",
      "Minibatch loss at step 1000: 0.260246\n",
      "Minibatch accuracy: 0.0%\n",
      "Validation accuracy: 94.5%\n",
      "Minibatch loss at step 1500: 0.162996\n",
      "Minibatch accuracy: 0.0%\n",
      "Validation accuracy: 95.1%\n",
      "Minibatch loss at step 2000: 0.000864\n",
      "Minibatch accuracy: 0.0%\n",
      "Validation accuracy: 95.1%\n",
      "Minibatch loss at step 2500: 0.001277\n",
      "Minibatch accuracy: 0.0%\n",
      "Validation accuracy: 95.3%\n",
      "Minibatch loss at step 3000: 0.004491\n",
      "Minibatch accuracy: 0.0%\n",
      "Validation accuracy: 95.3%\n",
      "Test accuracy: 95.1%\n"
     ]
    }
   ],
   "source": [
    "# Defining Params\n",
    "image_size = 28 # 28px \n",
    "num_labels = 10 # 0-9\n",
    "hidden_nodes = 1024 # H=1024\n",
    "\n",
    "# Defining the Graph\n",
    "graph = tf.Graph()\n",
    "\n",
    "with graph.as_default():\n",
    "\n",
    "  tf_train_dataset = tf.placeholder(tf.float32, shape=(None, image_size * image_size)) \n",
    "  tf_train_labels = tf.placeholder(tf.float32, shape=(None, num_labels)) \n",
    "  tf_valid_dataset = tf.constant(mnist_valid_dataset) \n",
    "  tf_test_dataset = tf.constant(mnist_test_dataset)\n",
    "  \n",
    "  # Variables.\n",
    "  w1 = tf.Variable(tf.truncated_normal([image_size * image_size, hidden_nodes])) \n",
    "  b1 = tf.Variable(tf.zeros([hidden_nodes])) \n",
    "  w2 = tf.Variable(tf.truncated_normal([hidden_nodes, num_labels])) \n",
    "  b2 = tf.Variable(tf.zeros([num_labels])) \n",
    "  \n",
    "  def twoNN(X):\n",
    "      return tf.matmul(tf.nn.relu(tf.matmul(X, w1) + b1), w2) + b2\n",
    "  \n",
    "  # Training computation.\n",
    "  logits = twoNN(tf_train_dataset) \n",
    "  loss = tf.reduce_mean(\n",
    "    tf.nn.softmax_cross_entropy_with_logits(logits, tf_train_labels)) \n",
    "  \n",
    "  # Optimizer.\n",
    "  optimizer = tf.train.GradientDescentOptimizer(0.5).minimize(loss) \n",
    "  \n",
    "  # Predictions \n",
    "  train_prediction = tf.nn.softmax(logits) \n",
    "  valid_prediction = tf.nn.softmax(twoNN(mnist_valid_dataset))\n",
    "  test_prediction = tf.nn.softmax(twoNN(mnist_test_dataset))\n",
    "  \n",
    "  \n",
    "# Defining hyper-parameters\n",
    "batch_size = 128\n",
    "num_steps = 3001\n",
    "\n",
    "with tf.Session(graph=graph) as session:\n",
    "  tf.initialize_all_variables().run()\n",
    "  for step in range(num_steps):\n",
    "    batch_data, batch_labels = mnist.train.next_batch(batch_size)\n",
    "    # Dict preparation and run training\n",
    "    feed_dict = {tf_train_dataset : batch_data, tf_train_labels : batch_labels}\n",
    "    _, l, predictions = session.run([optimizer, loss, train_prediction], feed_dict=feed_dict) \n",
    "    if (step % 500 == 0):\n",
    "      print(\"Minibatch loss at step %d: %f\" % (step, l))\n",
    "      print(\"Minibatch accuracy: %.1f%%\" % accuracy(batch_data, batch_labels))\n",
    "      print(\"Validation accuracy: %.1f%%\" % accuracy(valid_prediction.eval(), mnist_valid_labels))\n",
    "    \n",
    "  print(\"Test accuracy: %.1f%%\" % accuracy(test_prediction.eval(), mnist_test_labels))"
   ]
  },
  {
   "cell_type": "markdown",
   "metadata": {},
   "source": [
    "### Training sequences"
   ]
  },
  {
   "cell_type": "code",
   "execution_count": 4,
   "metadata": {
    "collapsed": false
   },
   "outputs": [
    {
     "name": "stdout",
     "output_type": "stream",
     "text": [
      "Extracting MNIST_data/train-images-idx3-ubyte.gz\n",
      "Extracting MNIST_data/train-labels-idx1-ubyte.gz\n",
      "Extracting MNIST_data/t10k-images-idx3-ubyte.gz\n",
      "Extracting MNIST_data/t10k-labels-idx1-ubyte.gz\n"
     ]
    }
   ],
   "source": [
    "mnist = input_data.read_data_sets('MNIST_data/', one_hot=False)\n",
    "mnist_train_dataset = mnist.train.images\n",
    "mnist_train_labels = mnist.train.labels\n",
    "mnist_test_dataset = mnist.test.images\n",
    "mnist_test_labels = mnist.test.labels\n",
    "mnist_valid_dataset = mnist.validation.images\n",
    "mnist_valid_labels = mnist.validation.labels"
   ]
  },
  {
   "cell_type": "code",
   "execution_count": 8,
   "metadata": {
    "collapsed": false
   },
   "outputs": [
    {
     "name": "stdout",
     "output_type": "stream",
     "text": [
      "Training set (55000, 784) (55000,)\n",
      "Validation set (5000, 784) (5000,)\n",
      "Test set (10000, 784) (10000,)\n"
     ]
    }
   ],
   "source": [
    "print('Training set', mnist_train_dataset.shape, mnist_train_labels.shape)\n",
    "print('Validation set', mnist_valid_dataset.shape, mnist_valid_labels.shape)\n",
    "print('Test set', mnist_test_dataset.shape, mnist_test_labels.shape)"
   ]
  },
  {
   "cell_type": "code",
   "execution_count": null,
   "metadata": {
    "collapsed": true
   },
   "outputs": [],
   "source": [
    "# X (image input) --> H (sequence)\n",
    "# N = max elements in a sequence\n",
    "# L = sequence length\n",
    "# 1 <= L <= N\n",
    "# N = 5 --> 1 <= L <= 5\n",
    "\n",
    "N = 5\n",
    "\n",
    "image_size = 32\n",
    "num_labels = 10\n",
    "num_channels = 1 # grayscale\n",
    "\n",
    "def reformat(dataset, labels):\n",
    "  dataset = dataset.reshape(\n",
    "    (-1, image_size, image_size, num_channels)).astype(np.float32)\n",
    "  labels = labels.astype(np.int32)\n",
    "  return dataset, labels\n",
    "\n",
    "train_dataset, train_labels = reformat(train_dataset, train_labels)\n",
    "valid_dataset, valid_labels = reformat(valid_dataset, valid_labels)\n",
    "test_dataset, test_labels = reformat(test_dataset, test_labels)\n",
    "print('Training set', train_dataset.shape, train_labels.shape)\n",
    "print('Validation set', valid_dataset.shape, valid_labels.shape)\n",
    "print('Test set', test_dataset.shape, test_labels.shape)\n"
   ]
  },
  {
   "cell_type": "code",
   "execution_count": null,
   "metadata": {
    "collapsed": true
   },
   "outputs": [],
   "source": [
    "# Defining Params\n",
    "image_height = 32 # 32px \n",
    "num_labels = N+1 \n",
    "num_classes = 11 # 0-9 + blank\n",
    "learning_rate = 0.01 \n",
    "\n",
    "SOURCE_URL = 'http://yann.lecun.com/exdb/mnist/'\n",
    "WORK_DIRECTORY = 'data'\n",
    "IMAGE_SIZE = 28\n",
    "NUM_CHANNELS = 1\n",
    "PIXEL_DEPTH = 255\n",
    "NUM_LABELS = 10\n",
    "VALIDATION_SIZE = 5000  # Size of the validation set.\n",
    "SEED = 66478  # Set to None for random seed.\n",
    "BATCH_SIZE = 64\n",
    "NUM_EPOCHS = 10\n",
    "EVAL_BATCH_SIZE = 64\n",
    "EVAL_FREQUENCY = 100  # Number of steps between evaluations.\n",
    "\n",
    "# Defining the Graph\n",
    "graph = tf.Graph()\n",
    "\n",
    "with graph.as_default():\n",
    "\n",
    "  tf_train_dataset = tf.placeholder(tf.float32, shape=(None, image_size * image_size)) \n",
    "  tf_train_labels = tf.placeholder(tf.float32, shape=(None, num_labels)) \n",
    "  tf_valid_dataset = tf.constant(mnist_valid_dataset) \n",
    "  tf_test_dataset = tf.constant(mnist_test_dataset)\n",
    "  \n",
    "  # Variables.\n",
    "  w_L = tf.Variable(tf.truncated_normal([image_size * image_size, num_labels])) \n",
    "  b_L = tf.Variable(tf.zeros([num_labels])) \n",
    "  \n",
    "  w_1 = tf.Variable(tf.truncated_normal([image_size * image_size, num_labels])) \n",
    "  b_1 = tf.Variable(tf.zeros([num_labels])) \n",
    "  \n",
    "  w_2 = tf.Variable(tf.truncated_normal([image_size * image_size, num_labels])) \n",
    "  b_2 = tf.Variable(tf.zeros([num_labels])) \n",
    "  \n",
    "  w_3 = tf.Variable(tf.truncated_normal([image_size * image_size, num_labels])) \n",
    "  b_3 = tf.Variable(tf.zeros([num_labels])) \n",
    "  \n",
    "  w_4 = tf.Variable(tf.truncated_normal([image_size * image_size, num_labels])) \n",
    "  b_4 = tf.Variable(tf.zeros([num_labels])) \n",
    "  \n",
    "  w_5 = tf.Variable(tf.truncated_normal([image_size * image_size, num_labels])) \n",
    "  b_5 = tf.Variable(tf.zeros([num_labels])) \n",
    "      \n",
    "  def LR(X,w,b):\n",
    "      return tf.matmul(X,w) + b\n",
    "    \n",
    "  def model(X):\n",
    "    z_L = LR(X,w_L,b_L)\n",
    "    z_1 = LR(X,w_1,b_1)\n",
    "    z_2 = LR(X,w_2,b_2)\n",
    "    z_3 = LR(X,w_3,b_3)\n",
    "    z_4 = LR(X,w_4,b_4)\n",
    "    z_5 = LR(X,w_5,b_5)\n",
    "    return [z_L, z_1, z_2, z_3, z_4, z_5]\n",
    "  \n",
    "  # Training computation.\n",
    "  z = model(tf.train.dataset)\n",
    "\n",
    "  # Loss  \n",
    "  loss = tf.reduce_mean(tf.nn.sparse_softmax_cross_entropy_with_logits(z, tf_train_labels))\n",
    "\n",
    "  # Optimizer.\n",
    "  optimizer = tf.train.GradientDescentOptimizer(learning_rate).minimize(loss) \n",
    "  \n",
    "  # Predictions \n",
    "  train_prediction = tf.nn.softmax(z) \n",
    "  valid_prediction = tf.nn.softmax(model(mnist_valid_dataset))\n",
    "  test_prediction = tf.nn.softmax(model(mnist_test_dataset))\n",
    "  \n",
    "  \n",
    "# Defining hyper-parameters\n",
    "batch_size = 128\n",
    "num_steps = 3001\n",
    "\n",
    "with tf.Session(graph=graph) as session:\n",
    "  tf.initialize_all_variables().run()\n",
    "  for step in range(num_steps):\n",
    "    batch_data, batch_labels = mnist.train.next_batch(batch_size)\n",
    "    # Dict preparation and run training\n",
    "    feed_dict = {tf_train_dataset : batch_data, tf_train_labels : batch_labels}\n",
    "    _, l, predictions = session.run([optimizer, loss, train_prediction], feed_dict=feed_dict) \n",
    "    if (step % 500 == 0):\n",
    "      print(\"Minibatch loss at step %d: %f\" % (step, l))\n",
    "      print(\"Minibatch accuracy: %.1f%%\" % accuracy(batch_data, batch_labels))\n",
    "      print(\"Validation accuracy: %.1f%%\" % accuracy(valid_prediction.eval(), mnist_valid_labels))\n",
    "    \n",
    "  print(\"Test accuracy: %.1f%%\" % accuracy(test_prediction.eval(), mnist_test_labels))  "
   ]
  },
  {
   "cell_type": "markdown",
   "metadata": {},
   "source": [
    "### Downloading and verifying data"
   ]
  },
  {
   "cell_type": "code",
   "execution_count": null,
   "metadata": {
    "collapsed": true
   },
   "outputs": [],
   "source": []
  },
  {
   "cell_type": "code",
   "execution_count": 5,
   "metadata": {
    "collapsed": false
   },
   "outputs": [
    {
     "name": "stdout",
     "output_type": "stream",
     "text": [
      "Found and verified train_32x32.mat\n",
      "Found and verified test_32x32.mat\n"
     ]
    }
   ],
   "source": [
    "URL = 'http://ufldl.stanford.edu/housenumbers/'\n",
    "TRAIN_FILENAME= 'train_32x32.mat'\n",
    "TEST_FILENAME = 'test_32x32.mat'\n",
    "EXTRA_FILENAME = 'extra_32x32.mat'\n",
    "last_percent_reported = None\n",
    "\n",
    "train_filename = maybe_download(TRAIN_FILENAME, 182040794)\n",
    "test_filename = maybe_download(TEST_FILENAME, 64275384)\n",
    "# extra_filename = maybe_download(EXTRA_FILENAME, 100) #estimated size"
   ]
  },
  {
   "cell_type": "markdown",
   "metadata": {},
   "source": [
    "## Extracting data"
   ]
  },
  {
   "cell_type": "code",
   "execution_count": 32,
   "metadata": {
    "collapsed": false
   },
   "outputs": [
    {
     "name": "stdout",
     "output_type": "stream",
     "text": [
      "Extracting...\n",
      "Completed!\n"
     ]
    }
   ],
   "source": [
    "# Using scipy.io.loadmat \n",
    "print('Extracting...')\n",
    "train_matfile = loadmat('train_32x32.mat')\n",
    "test_matfile = loadmat('test_32x32.mat')\n",
    "# extra_matfile = loadmat('extra_32x32.mat')\n",
    "print('Completed!')"
   ]
  },
  {
   "cell_type": "code",
   "execution_count": 60,
   "metadata": {
    "collapsed": false
   },
   "outputs": [
    {
     "name": "stdout",
     "output_type": "stream",
     "text": [
      "Keys: ['y', 'X', '__version__', '__header__', '__globals__'].\n",
      "Datasets ready!\n"
     ]
    }
   ],
   "source": [
    "print('Keys: %s.' % train_matfile.keys()) # checking current keys\n",
    "\n",
    "# Training Dataset\n",
    "train_X = train_matfile['X'] \n",
    "train_y = train_matfile['y']\n",
    "\n",
    "# Test Dataset\n",
    "test_X = test_matfile['X']\n",
    "test_y = test_matfile['y']\n",
    "\n",
    "# Extra Dataset\n",
    "# extra_X = extra_matfile['X']\n",
    "# extra_y = extra_matfile['y']\n",
    "print('Datasets ready!')"
   ]
  },
  {
   "cell_type": "markdown",
   "metadata": {},
   "source": [
    "## Visualizing data"
   ]
  },
  {
   "cell_type": "code",
   "execution_count": 71,
   "metadata": {
    "collapsed": false
   },
   "outputs": [
    {
     "name": "stdout",
     "output_type": "stream",
     "text": [
      "Image\n"
     ]
    },
    {
     "data": {
      "image/png": "[encoded data removed]",
      "text/plain": [
       "<matplotlib.figure.Figure at 0x1226ad590>"
      ]
     },
     "metadata": {},
     "output_type": "display_data"
    },
    {
     "name": "stdout",
     "output_type": "stream",
     "text": [
      "Label\n",
      "[9]\n",
      "\n",
      "\n"
     ]
    }
   ],
   "source": [
    "# Set how many images want to visualize\n",
    "pl_samp = 1\n",
    "\n",
    "for _ in range(pl_samp):\n",
    "  rd = random.randint(0, len(train_X))\n",
    "\n",
    "  sample_X = train_X[:,:,:,rd]\n",
    "  sample_y = train_y[rd]\n",
    "\n",
    "  print('Image')\n",
    "  plt.imshow(sample_X)\n",
    "  plt.show()\n",
    "  print('Label')\n",
    "  print(sample_y)\n",
    "  print('\\n')"
   ]
  },
  {
   "cell_type": "code",
   "execution_count": 76,
   "metadata": {
    "collapsed": false
   },
   "outputs": [
    {
     "data": {
      "text/plain": [
       "<matplotlib.image.AxesImage at 0x122fc52d0>"
      ]
     },
     "execution_count": 76,
     "metadata": {},
     "output_type": "execute_result"
    },
    {
     "data": {
      "image/png": "[encoded data removed]",
      "text/plain": [
       "<matplotlib.figure.Figure at 0x122f24850>"
      ]
     },
     "metadata": {},
     "output_type": "display_data"
    }
   ],
   "source": [
    "plt.imshow(train_X[:,:,:,26])\n"
   ]
  },
  {
   "cell_type": "code",
   "execution_count": null,
   "metadata": {
    "collapsed": true
   },
   "outputs": [],
   "source": []
  }
 ],
 "metadata": {
  "kernelspec": {
   "display_name": "Python 2",
   "language": "python",
   "name": "python2"
  },
  "language_info": {
   "codemirror_mode": {
    "name": "ipython",
    "version": 2
   },
   "file_extension": ".py",
   "mimetype": "text/x-python",
   "name": "python",
   "nbconvert_exporter": "python",
   "pygments_lexer": "ipython2",
   "version": "2.7.11"
  }
 },
 "nbformat": 4,
 "nbformat_minor": 0
}
