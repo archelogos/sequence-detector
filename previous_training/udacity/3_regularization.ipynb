{
 "cells": [
  {
   "cell_type": "markdown",
   "metadata": {
    "colab_type": "text",
    "id": "kR-4eNdK6lYS"
   },
   "source": [
    "Deep Learning\n",
    "=============\n",
    "\n",
    "Assignment 3\n",
    "------------\n",
    "\n",
    "Previously in `2_fullyconnected.ipynb`, you trained a logistic regression and a neural network model.\n",
    "\n",
    "The goal of this assignment is to explore regularization techniques."
   ]
  },
  {
   "cell_type": "code",
   "execution_count": 3,
   "metadata": {
    "cellView": "both",
    "colab": {
     "autoexec": {
      "startup": false,
      "wait_interval": 0
     }
    },
    "colab_type": "code",
    "collapsed": true,
    "id": "JLpLa8Jt7Vu4"
   },
   "outputs": [],
   "source": [
    "# These are all the modules we'll be using later. Make sure you can import them\n",
    "# before proceeding further.\n",
    "from __future__ import print_function\n",
    "import numpy as np\n",
    "import tensorflow as tf\n",
    "from six.moves import cPickle as pickle"
   ]
  },
  {
   "cell_type": "markdown",
   "metadata": {
    "colab_type": "text",
    "id": "1HrCK6e17WzV"
   },
   "source": [
    "First reload the data we generated in _notmist.ipynb_."
   ]
  },
  {
   "cell_type": "code",
   "execution_count": 4,
   "metadata": {
    "cellView": "both",
    "colab": {
     "autoexec": {
      "startup": false,
      "wait_interval": 0
     },
     "output_extras": [
      {
       "item_id": 1
      }
     ]
    },
    "colab_type": "code",
    "collapsed": false,
    "executionInfo": {
     "elapsed": 11777,
     "status": "ok",
     "timestamp": 1449849322348,
     "user": {
      "color": "",
      "displayName": "",
      "isAnonymous": false,
      "isMe": true,
      "permissionId": "",
      "photoUrl": "",
      "sessionId": "0",
      "userId": ""
     },
     "user_tz": 480
    },
    "id": "y3-cj1bpmuxc",
    "outputId": "e03576f1-ebbe-4838-c388-f1777bcc9873"
   },
   "outputs": [
    {
     "name": "stdout",
     "output_type": "stream",
     "text": [
      "Training set (200000, 28, 28) (200000,)\n",
      "Validation set (10000, 28, 28) (10000,)\n",
      "Test set (10000, 28, 28) (10000,)\n"
     ]
    }
   ],
   "source": [
    "pickle_file = 'notMNIST.pickle'\n",
    "\n",
    "with open(pickle_file, 'rb') as f:\n",
    "  save = pickle.load(f)\n",
    "  train_dataset = save['train_dataset']\n",
    "  train_labels = save['train_labels']\n",
    "  valid_dataset = save['valid_dataset']\n",
    "  valid_labels = save['valid_labels']\n",
    "  test_dataset = save['test_dataset']\n",
    "  test_labels = save['test_labels']\n",
    "  del save  # hint to help gc free up memory\n",
    "  print('Training set', train_dataset.shape, train_labels.shape)\n",
    "  print('Validation set', valid_dataset.shape, valid_labels.shape)\n",
    "  print('Test set', test_dataset.shape, test_labels.shape)"
   ]
  },
  {
   "cell_type": "markdown",
   "metadata": {
    "colab_type": "text",
    "id": "L7aHrm6nGDMB"
   },
   "source": [
    "Reformat into a shape that's more adapted to the models we're going to train:\n",
    "- data as a flat matrix,\n",
    "- labels as float 1-hot encodings."
   ]
  },
  {
   "cell_type": "code",
   "execution_count": 5,
   "metadata": {
    "cellView": "both",
    "colab": {
     "autoexec": {
      "startup": false,
      "wait_interval": 0
     },
     "output_extras": [
      {
       "item_id": 1
      }
     ]
    },
    "colab_type": "code",
    "collapsed": false,
    "executionInfo": {
     "elapsed": 11728,
     "status": "ok",
     "timestamp": 1449849322356,
     "user": {
      "color": "",
      "displayName": "",
      "isAnonymous": false,
      "isMe": true,
      "permissionId": "",
      "photoUrl": "",
      "sessionId": "0",
      "userId": ""
     },
     "user_tz": 480
    },
    "id": "IRSyYiIIGIzS",
    "outputId": "3f8996ee-3574-4f44-c953-5c8a04636582"
   },
   "outputs": [
    {
     "name": "stdout",
     "output_type": "stream",
     "text": [
      "Training set (200000, 784) (200000, 10)\n",
      "Validation set (10000, 784) (10000, 10)\n",
      "Test set (10000, 784) (10000, 10)\n"
     ]
    }
   ],
   "source": [
    "image_size = 28\n",
    "num_labels = 10\n",
    "\n",
    "def reformat(dataset, labels):\n",
    "  dataset = dataset.reshape((-1, image_size * image_size)).astype(np.float32)\n",
    "  # Map 2 to [0.0, 1.0, 0.0 ...], 3 to [0.0, 0.0, 1.0 ...]\n",
    "  labels = (np.arange(num_labels) == labels[:,None]).astype(np.float32)\n",
    "  return dataset, labels\n",
    "train_dataset, train_labels = reformat(train_dataset, train_labels)\n",
    "valid_dataset, valid_labels = reformat(valid_dataset, valid_labels)\n",
    "test_dataset, test_labels = reformat(test_dataset, test_labels)\n",
    "print('Training set', train_dataset.shape, train_labels.shape)\n",
    "print('Validation set', valid_dataset.shape, valid_labels.shape)\n",
    "print('Test set', test_dataset.shape, test_labels.shape)"
   ]
  },
  {
   "cell_type": "code",
   "execution_count": 6,
   "metadata": {
    "cellView": "both",
    "colab": {
     "autoexec": {
      "startup": false,
      "wait_interval": 0
     }
    },
    "colab_type": "code",
    "collapsed": true,
    "id": "RajPLaL_ZW6w"
   },
   "outputs": [],
   "source": [
    "def accuracy(predictions, labels):\n",
    "  return (100.0 * np.sum(np.argmax(predictions, 1) == np.argmax(labels, 1))\n",
    "          / predictions.shape[0])"
   ]
  },
  {
   "cell_type": "markdown",
   "metadata": {
    "colab_type": "text",
    "id": "sgLbUAQ1CW-1"
   },
   "source": [
    "---\n",
    "Problem 1\n",
    "---------\n",
    "\n",
    "Introduce and tune L2 regularization for both logistic and neural network models. Remember that L2 amounts to adding a penalty on the norm of the weights to the loss. In TensorFlow, you can compute the L2 loss for a tensor `t` using `nn.l2_loss(t)`. The right amount of regularization should improve your validation / test accuracy.\n",
    "\n",
    "---"
   ]
  },
  {
   "cell_type": "code",
   "execution_count": 7,
   "metadata": {
    "collapsed": false
   },
   "outputs": [],
   "source": [
    "# Generic Stochastic Gradient Descent Function\n",
    "# param: graph\n",
    "# param: hyperparams (steps, batch_size)\n",
    "\n",
    "def run_simulation(graph, hyperparams):\n",
    "  with tf.Session(graph=graph) as session:\n",
    "    tf.initialize_all_variables().run()\n",
    "    print('Processing...')\n",
    "    for step in range(hyperparams['num_steps']):\n",
    "      # Ordered batches\n",
    "      offset = (step * hyperparams['batch_size']) % (train_labels.shape[0] - hyperparams['batch_size'])\n",
    "      # Generate a minibatch.\n",
    "      batch_data = train_dataset[offset:(offset + hyperparams['batch_size']), :]\n",
    "      batch_labels = train_labels[offset:(offset + hyperparams['batch_size']), :]\n",
    "      # Dict preparation and run training\n",
    "      feed_dict = {tf_train_dataset : batch_data, tf_train_labels : batch_labels}\n",
    "      _, l, predictions = session.run(\n",
    "        [optimizer, loss, train_prediction], feed_dict=feed_dict) # first param of run is a Tensor that means\n",
    "      # that maps variables from our graph to the desired variables\n",
    "      # In this case: \"optimizer\" to \"_\"(dummy); \"loss\" to \"l\"; and \"train_predictions\" to \"predictions\"\n",
    "    print(\"Test accuracy: %.1f%%\" % accuracy(test_prediction.eval(), test_labels))\n",
    "    tf.train.export_meta_graph()"
   ]
  },
  {
   "cell_type": "markdown",
   "metadata": {},
   "source": [
    "### Logistic Regression Model"
   ]
  },
  {
   "cell_type": "code",
   "execution_count": 53,
   "metadata": {
    "collapsed": false
   },
   "outputs": [
    {
     "name": "stdout",
     "output_type": "stream",
     "text": [
      "Processing...\n",
      "Test accuracy: 86.5%\n"
     ]
    }
   ],
   "source": [
    "# Defining hyper-parameters\n",
    "batch_size = 128\n",
    "num_steps = 3001\n",
    "\n",
    "# Defining the graph\n",
    "graph = tf.Graph()\n",
    "hyperparams = {'batch_size' : batch_size, 'num_steps' : num_steps}\n",
    "with graph.as_default():\n",
    "\n",
    "  # Input init and constant init. According to the theory \n",
    "  tf_train_dataset = tf.placeholder(tf.float32,\n",
    "                                    shape=(batch_size, image_size * image_size)) # batch_size\n",
    "  tf_train_labels = tf.placeholder(tf.float32, shape=(batch_size, num_labels)) # batch_size\n",
    "  tf_valid_dataset = tf.constant(valid_dataset) \n",
    "  tf_test_dataset = tf.constant(test_dataset)\n",
    "  \n",
    "  # Variables.\n",
    "  weights = tf.Variable(\n",
    "    tf.truncated_normal([image_size * image_size, num_labels])) # mean 0, low std dev, random values\n",
    "  biases = tf.Variable(tf.zeros([num_labels])) # zeros\n",
    "  \n",
    "  # Training computation.\n",
    "  logits = tf.matmul(tf_train_dataset, weights) + biases # logistic regression\n",
    "  loss = tf.reduce_mean(\n",
    "    tf.nn.softmax_cross_entropy_with_logits(logits, tf_train_labels)) # loss function based on softmax-cross entropy\n",
    "  \n",
    "  # Optimizer.\n",
    "  optimizer = tf.train.GradientDescentOptimizer(0.5).minimize(loss) # GD Optimizer\n",
    "  \n",
    "  # Predictions for the training, validation, and test data. (Probabilities)\n",
    "  train_prediction = tf.nn.softmax(logits) \n",
    "  valid_prediction = tf.nn.softmax(\n",
    "    tf.matmul(tf_valid_dataset, weights) + biases) \n",
    "  test_prediction = tf.nn.softmax(tf.matmul(tf_test_dataset, weights) + biases)\n",
    "  \n",
    "  \n",
    "run_simulation(graph, hyperparams)"
   ]
  },
  {
   "cell_type": "markdown",
   "metadata": {},
   "source": [
    "#### Test Acc -> 86.5% (SIMPLE LRM-SGD)"
   ]
  },
  {
   "cell_type": "markdown",
   "metadata": {},
   "source": [
    "### Logistic Regression Model + L2 Regularization"
   ]
  },
  {
   "cell_type": "code",
   "execution_count": 67,
   "metadata": {
    "collapsed": false
   },
   "outputs": [
    {
     "name": "stdout",
     "output_type": "stream",
     "text": [
      "Processing...\n",
      "Test accuracy: 89.0%\n"
     ]
    }
   ],
   "source": [
    "# Defining hyper-parameters\n",
    "batch_size = 128\n",
    "num_steps = 3001\n",
    "l2_beta = 0.003\n",
    "\n",
    "# Defining the graph\n",
    "graph = tf.Graph()\n",
    "hyperparams = {'batch_size' : batch_size, 'num_steps' : num_steps}\n",
    "with graph.as_default():\n",
    "\n",
    "  # Input init and constant init. According to the theory \n",
    "  tf_train_dataset = tf.placeholder(tf.float32,\n",
    "                                    shape=(batch_size, image_size * image_size)) # batch_size\n",
    "  tf_train_labels = tf.placeholder(tf.float32, shape=(batch_size, num_labels)) # batch_size\n",
    "  tf_valid_dataset = tf.constant(valid_dataset) \n",
    "  tf_test_dataset = tf.constant(test_dataset)\n",
    "  \n",
    "  # Variables.\n",
    "  weights = tf.Variable(\n",
    "    tf.truncated_normal([image_size * image_size, num_labels])) # mean 0, low std dev, random values\n",
    "  biases = tf.Variable(tf.zeros([num_labels])) # zeros\n",
    "  \n",
    "  # Training computation.\n",
    "  logits = tf.matmul(tf_train_dataset, weights) + biases # logistic regression\n",
    "  d_loss = tf.reduce_mean(tf.nn.softmax_cross_entropy_with_logits(logits, tf_train_labels)) \n",
    "  loss = d_loss + 0.5*l2_beta*tf.nn.l2_loss(weights) # L' = L + 1/2*beta*||w||^2\n",
    "  \n",
    "  # Optimizer.\n",
    "  optimizer = tf.train.GradientDescentOptimizer(0.5).minimize(loss) # GD Optimizer\n",
    "  \n",
    "  # Predictions for the training, validation, and test data. (Probabilities)\n",
    "  train_prediction = tf.nn.softmax(logits) \n",
    "  valid_prediction = tf.nn.softmax(\n",
    "    tf.matmul(tf_valid_dataset, weights) + biases) \n",
    "  test_prediction = tf.nn.softmax(tf.matmul(tf_test_dataset, weights) + biases)\n",
    "  \n",
    "  \n",
    "run_simulation(graph, hyperparams)"
   ]
  },
  {
   "cell_type": "markdown",
   "metadata": {},
   "source": [
    "#### Test Acc -> 89.0% (SIMPLE LRM-SGD-L2 REG)"
   ]
  },
  {
   "cell_type": "markdown",
   "metadata": {},
   "source": [
    "### 2-Layers NN"
   ]
  },
  {
   "cell_type": "code",
   "execution_count": 57,
   "metadata": {
    "collapsed": false
   },
   "outputs": [
    {
     "name": "stdout",
     "output_type": "stream",
     "text": [
      "Processing...\n",
      "Test accuracy: 89.8%\n"
     ]
    }
   ],
   "source": [
    "batch_size = 128\n",
    "num_steps = 3001\n",
    "hidden_nodes = 1024 \n",
    "\n",
    "graph = tf.Graph()\n",
    "hyperparams = {'batch_size' : batch_size, 'num_steps' : num_steps}\n",
    "with graph.as_default():\n",
    "\n",
    "  # Inputs\n",
    "  tf_train_dataset = tf.placeholder(tf.float32,\n",
    "                                    shape=(batch_size, image_size * image_size))\n",
    "  tf_train_labels = tf.placeholder(tf.float32, shape=(batch_size, num_labels))\n",
    "  tf_valid_dataset = tf.constant(valid_dataset)\n",
    "  tf_test_dataset = tf.constant(test_dataset)\n",
    "  \n",
    "  # Variables.\n",
    "  weights_1 = tf.Variable(\n",
    "    tf.truncated_normal([image_size * image_size, hidden_nodes])) \n",
    "  biases_1 = tf.Variable(tf.zeros([hidden_nodes]))\n",
    "  weights_2 = tf.Variable(\n",
    "    tf.truncated_normal([hidden_nodes, num_labels])) \n",
    "  biases_2 = tf.Variable(tf.zeros([num_labels]))\n",
    "  \n",
    "  # Model\n",
    "  def two_layer_nn(X):\n",
    "    return tf.matmul(tf.nn.relu(tf.matmul(X, weights_1) + biases_1), weights_2) + biases_2\n",
    "\n",
    "  logits = two_layer_nn(tf_train_dataset)\n",
    "\n",
    "  loss = tf.reduce_mean(\n",
    "      tf.nn.softmax_cross_entropy_with_logits(logits, tf_train_labels))\n",
    "  # Optimizer.\n",
    "  optimizer = tf.train.GradientDescentOptimizer(0.5).minimize(loss)\n",
    "  \n",
    "  # Predictions for the training, validation, and test data.\n",
    "  train_prediction = tf.nn.softmax(logits)\n",
    "  valid_prediction = tf.nn.softmax(two_layer_nn(tf_valid_dataset))\n",
    "  test_prediction = tf.nn.softmax(two_layer_nn(tf_test_dataset))\n",
    "  \n",
    "run_simulation(graph, hyperparams)  "
   ]
  },
  {
   "cell_type": "markdown",
   "metadata": {},
   "source": [
    "#### Test Acc -> 89.8% (2NN)"
   ]
  },
  {
   "cell_type": "markdown",
   "metadata": {},
   "source": [
    "### 2-Layers NN + L2 Regularization"
   ]
  },
  {
   "cell_type": "code",
   "execution_count": 69,
   "metadata": {
    "collapsed": false
   },
   "outputs": [
    {
     "name": "stdout",
     "output_type": "stream",
     "text": [
      "Processing...\n",
      "Test accuracy: 93.2%\n"
     ]
    }
   ],
   "source": [
    "# Hyperparams\n",
    "batch_size = 128\n",
    "num_steps = 3001\n",
    "hidden_nodes = 1024 \n",
    "l2_beta = 0.003\n",
    "\n",
    "graph = tf.Graph()\n",
    "hyperparams = {'batch_size' : batch_size, 'num_steps' : num_steps}\n",
    "with graph.as_default():\n",
    "\n",
    "  # Inputs\n",
    "  tf_train_dataset = tf.placeholder(tf.float32, shape=(batch_size, image_size * image_size))\n",
    "  tf_train_labels = tf.placeholder(tf.float32, shape=(batch_size, num_labels))\n",
    "  tf_valid_dataset = tf.constant(valid_dataset)\n",
    "  tf_test_dataset = tf.constant(test_dataset)\n",
    "  \n",
    "  # Variables.\n",
    "  w1 = tf.Variable(tf.truncated_normal([image_size * image_size, hidden_nodes])) \n",
    "  b1 = tf.Variable(tf.zeros([hidden_nodes]))\n",
    "  w2 = tf.Variable(tf.truncated_normal([hidden_nodes, num_labels])) \n",
    "  b2 = tf.Variable(tf.zeros([num_labels]))\n",
    "  \n",
    "  # Model\n",
    "  def two_NN(X):\n",
    "    return tf.matmul(tf.nn.relu(tf.matmul(X, w1) + b1), w2) + b2\n",
    "\n",
    "  # Loss and L2 Regularization\n",
    "  d_loss = tf.reduce_mean(tf.nn.softmax_cross_entropy_with_logits(two_NN(tf_train_dataset), tf_train_labels))\n",
    "  loss = d_loss + 0.5*l2_beta*(tf.nn.l2_loss(w1) + tf.nn.l2_loss(w2)) # L' = L + 1/2*beta*||wi||^2\n",
    "  \n",
    "  # Optimizer.\n",
    "  optimizer = tf.train.GradientDescentOptimizer(0.5).minimize(loss)\n",
    "  \n",
    "  # Predictions for the training, validation, and test data.\n",
    "  train_prediction = tf.nn.softmax(two_NN(tf_train_dataset))\n",
    "  valid_prediction = tf.nn.softmax(two_NN(tf_valid_dataset))\n",
    "  test_prediction = tf.nn.softmax(two_NN(tf_test_dataset))\n",
    "  \n",
    "run_simulation(graph, hyperparams)  "
   ]
  },
  {
   "cell_type": "markdown",
   "metadata": {},
   "source": [
    "#### Test Acc -> 93.2% (2NN - L2 REG)"
   ]
  },
  {
   "cell_type": "markdown",
   "metadata": {
    "colab_type": "text",
    "id": "na8xX2yHZzNF"
   },
   "source": [
    "---\n",
    "Problem 2\n",
    "---------\n",
    "Let's demonstrate an extreme case of overfitting. Restrict your training data to just a few batches. What happens?\n",
    "\n",
    "---"
   ]
  },
  {
   "cell_type": "code",
   "execution_count": 102,
   "metadata": {
    "collapsed": false
   },
   "outputs": [],
   "source": [
    "# Generic Stochastic Gradient Descent Function\n",
    "# param: graph\n",
    "# param: hyperparams (steps, batch_size)\n",
    "# Modifing OFFSET value. Moving the pointer of the next batch => old_batch/OVERFITTING_FACTOR\n",
    "\n",
    "def run_overfitted_simulation(graph, hyperparams):\n",
    "  with tf.Session(graph=graph) as session:\n",
    "    tf.initialize_all_variables().run()\n",
    "    print('Processing...')\n",
    "    for step in range(hyperparams['num_steps']):\n",
    "      # Ordered Batches\n",
    "      # offset = (step * hyperparams['batch_size']) % (train_labels.shape[0] - hyperparams['batch_size'])\n",
    "      # Overfitting on purpose\n",
    "      OVERFITTING_FACTOR = 1000\n",
    "      offset = (((step * hyperparams['batch_size']) % (train_labels.shape[0] - hyperparams['batch_size']))\n",
    "        /OVERFITTING_FACTOR)\n",
    "      # Generate a minibatch.\n",
    "      batch_data = train_dataset[offset:(offset + hyperparams['batch_size']), :]\n",
    "      batch_labels = train_labels[offset:(offset + hyperparams['batch_size']), :]\n",
    "      # Dict preparation and run training\n",
    "      feed_dict = {tf_train_dataset : batch_data, tf_train_labels : batch_labels}\n",
    "      _, l, predictions = session.run(\n",
    "        [optimizer, loss, train_prediction], feed_dict=feed_dict) # first param of run is a Tensor that means\n",
    "      # that maps variables from our graph to the desired variables\n",
    "      # In this case: \"optimizer\" to \"_\"(dummy); \"loss\" to \"l\"; and \"train_predictions\" to \"predictions\"\n",
    "    print(\"Test accuracy: %.1f%%\" % accuracy(test_prediction.eval(), test_labels))"
   ]
  },
  {
   "cell_type": "code",
   "execution_count": 103,
   "metadata": {
    "collapsed": false
   },
   "outputs": [
    {
     "name": "stdout",
     "output_type": "stream",
     "text": [
      "Processing...\n",
      "Test accuracy: 82.9%\n"
     ]
    }
   ],
   "source": [
    "# Hyperparams\n",
    "batch_size = 128\n",
    "num_steps = 3001\n",
    "hidden_nodes = 1024 \n",
    "l2_beta = 0.003\n",
    "\n",
    "graph = tf.Graph()\n",
    "hyperparams = {'batch_size' : batch_size, 'num_steps' : num_steps}\n",
    "with graph.as_default():\n",
    "\n",
    "  # Inputs\n",
    "  tf_train_dataset = tf.placeholder(tf.float32, shape=(batch_size, image_size * image_size))\n",
    "  tf_train_labels = tf.placeholder(tf.float32, shape=(batch_size, num_labels))\n",
    "  tf_valid_dataset = tf.constant(valid_dataset)\n",
    "  tf_test_dataset = tf.constant(test_dataset)\n",
    "  \n",
    "  # Variables.\n",
    "  w1 = tf.Variable(tf.truncated_normal([image_size * image_size, hidden_nodes])) \n",
    "  b1 = tf.Variable(tf.zeros([hidden_nodes]))\n",
    "  w2 = tf.Variable(tf.truncated_normal([hidden_nodes, num_labels])) \n",
    "  b2 = tf.Variable(tf.zeros([num_labels]))\n",
    "  \n",
    "  # Model\n",
    "  def two_NN(X):\n",
    "    return tf.matmul(tf.nn.relu(tf.matmul(X, w1) + b1), w2) + b2\n",
    "\n",
    "  # Loss and L2 Regularization\n",
    "  d_loss = tf.reduce_mean(tf.nn.softmax_cross_entropy_with_logits(two_NN(tf_train_dataset), tf_train_labels))\n",
    "  loss = d_loss + 0.5*l2_beta*(tf.nn.l2_loss(w1) + tf.nn.l2_loss(w2)) # L' = L + 1/2*beta*||wi||^2\n",
    "  \n",
    "  # Optimizer.\n",
    "  optimizer = tf.train.GradientDescentOptimizer(0.5).minimize(loss)\n",
    "  \n",
    "  # Predictions for the training, validation, and test data.\n",
    "  train_prediction = tf.nn.softmax(two_NN(tf_train_dataset))\n",
    "  valid_prediction = tf.nn.softmax(two_NN(tf_valid_dataset))\n",
    "  test_prediction = tf.nn.softmax(two_NN(tf_test_dataset))\n",
    "  \n",
    "run_overfitted_simulation(graph, hyperparams)  "
   ]
  },
  {
   "cell_type": "markdown",
   "metadata": {
    "colab_type": "text",
    "id": "ww3SCBUdlkRc"
   },
   "source": [
    "---\n",
    "Problem 3\n",
    "---------\n",
    "Introduce Dropout on the hidden layer of the neural network. Remember: Dropout should only be introduced during training, not evaluation, otherwise your evaluation results would be stochastic as well. TensorFlow provides `nn.dropout()` for that, but you have to make sure it's only inserted during training.\n",
    "\n",
    "What happens to our extreme overfitting case?\n",
    "\n",
    "---"
   ]
  },
  {
   "cell_type": "markdown",
   "metadata": {},
   "source": [
    "### 2NN + L2 + Dropout Technique"
   ]
  },
  {
   "cell_type": "code",
   "execution_count": 106,
   "metadata": {
    "collapsed": false
   },
   "outputs": [
    {
     "name": "stdout",
     "output_type": "stream",
     "text": [
      "Standard Simulation\n",
      "Processing...\n",
      "Test accuracy: 93.9%\n"
     ]
    }
   ],
   "source": [
    "# Hyperparams\n",
    "batch_size = 192\n",
    "num_steps = 5001\n",
    "hidden_nodes = 1024 \n",
    "l2_beta = 0.003\n",
    "keep_prob = 0.7\n",
    "\n",
    "graph = tf.Graph()\n",
    "hyperparams = {'batch_size' : batch_size, 'num_steps' : num_steps}\n",
    "with graph.as_default():\n",
    "\n",
    "  # Inputs\n",
    "  tf_train_dataset = tf.placeholder(tf.float32, shape=(batch_size, image_size * image_size))\n",
    "  tf_train_labels = tf.placeholder(tf.float32, shape=(batch_size, num_labels))\n",
    "  tf_valid_dataset = tf.constant(valid_dataset)\n",
    "  tf_test_dataset = tf.constant(test_dataset)\n",
    "  \n",
    "  # Variables.\n",
    "  w1 = tf.Variable(tf.truncated_normal([image_size * image_size, hidden_nodes])) \n",
    "  b1 = tf.Variable(tf.zeros([hidden_nodes]))\n",
    "  w2 = tf.Variable(tf.truncated_normal([hidden_nodes, num_labels])) \n",
    "  b2 = tf.Variable(tf.zeros([num_labels]))\n",
    "  \n",
    "  # Training Model (DROPOUT)\n",
    "  def two_NN_dropout(X):\n",
    "    h1 = tf.matmul(X, w1) + b1\n",
    "    h2 = tf.nn.relu(h1)\n",
    "    h3 = tf.nn.dropout(h2, keep_prob)\n",
    "    y = tf.matmul(h3, w2) + b2\n",
    "    return y\n",
    "\n",
    "  # Model\n",
    "  def two_NN(X):\n",
    "    return tf.matmul(tf.nn.relu(tf.matmul(X, w1) + b1), w2) + b2\n",
    "\n",
    "  # Loss and L2 Regularization\n",
    "  d_loss = tf.reduce_mean(tf.nn.softmax_cross_entropy_with_logits(two_NN_dropout(tf_train_dataset), tf_train_labels))\n",
    "  regularizers = 0.5*l2_beta*(tf.nn.l2_loss(w1) + tf.nn.l2_loss(w2)) # L' = L + 1/2*beta*||wi||^2\n",
    "  loss = d_loss + regularizers\n",
    "  \n",
    "  # Optimizer.\n",
    "  optimizer = tf.train.GradientDescentOptimizer(0.5).minimize(loss)\n",
    "  \n",
    "  # Predictions for the training, validation, and test data.\n",
    "  train_prediction = tf.nn.softmax(two_NN(tf_train_dataset))\n",
    "  valid_prediction = tf.nn.softmax(two_NN(tf_valid_dataset))\n",
    "  test_prediction = tf.nn.softmax(two_NN(tf_test_dataset))\n",
    "\n",
    "print('Standard Simulation')  \n",
    "run_simulation(graph, hyperparams)  \n",
    "#print('Overfitted Simulation')\n",
    "#run_overfitted_simulation(graph, hyperparams)"
   ]
  },
  {
   "cell_type": "markdown",
   "metadata": {
    "colab_type": "text",
    "id": "-b1hTz3VWZjw"
   },
   "source": [
    "---\n",
    "Problem 4\n",
    "---------\n",
    "\n",
    "Try to get the best performance you can using a multi-layer model! The best reported test accuracy using a deep network is [97.1%](http://yaroslavvb.blogspot.com/2011/09/notmnist-dataset.html?showComment=1391023266211#c8758720086795711595).\n",
    "\n",
    "One avenue you can explore is to add multiple layers.\n",
    "\n",
    "Another one is to use learning rate decay:\n",
    "\n",
    "    global_step = tf.Variable(0)  # count the number of steps taken.\n",
    "    learning_rate = tf.train.exponential_decay(0.5, global_step, ...)\n",
    "    optimizer = tf.train.GradientDescentOptimizer(learning_rate).minimize(loss, global_step=global_step)\n",
    " \n",
    " ---\n"
   ]
  },
  {
   "cell_type": "markdown",
   "metadata": {},
   "source": [
    "### 2-Layers NN + L2 + Dropout + Decay Learning Rate"
   ]
  },
  {
   "cell_type": "code",
   "execution_count": 8,
   "metadata": {
    "collapsed": false
   },
   "outputs": [
    {
     "name": "stdout",
     "output_type": "stream",
     "text": [
      "Standard Simulation\n",
      "Processing...\n",
      "Test accuracy: 93.2%\n"
     ]
    }
   ],
   "source": [
    "# Hyperparams\n",
    "batch_size = 192\n",
    "num_steps = 5001\n",
    "hidden_nodes = 1024 \n",
    "l2_beta = 0.003\n",
    "keep_prob = 0.7\n",
    "starter_learning_rate = 0.5\n",
    "decay_steps = 1500\n",
    "decay_factor = 0.96\n",
    "\n",
    "graph = tf.Graph()\n",
    "hyperparams = {'batch_size' : batch_size, 'num_steps' : num_steps}\n",
    "with graph.as_default():\n",
    "\n",
    "  # Inputs\n",
    "  tf_train_dataset = tf.placeholder(tf.float32, shape=(batch_size, image_size * image_size))\n",
    "  tf_train_labels = tf.placeholder(tf.float32, shape=(batch_size, num_labels))\n",
    "  tf_valid_dataset = tf.constant(valid_dataset)\n",
    "  tf_test_dataset = tf.constant(test_dataset)\n",
    "  \n",
    "  # Variables.\n",
    "  global_step = tf.Variable(0) # Decay Learning Rate\n",
    "  w1 = tf.Variable(tf.truncated_normal([image_size * image_size, hidden_nodes])) \n",
    "  b1 = tf.Variable(tf.zeros([hidden_nodes]))\n",
    "  w2 = tf.Variable(tf.truncated_normal([hidden_nodes, num_labels])) \n",
    "  b2 = tf.Variable(tf.zeros([num_labels]))\n",
    "  \n",
    "  # Training Model (DROPOUT)\n",
    "  def two_NN_dropout(X):\n",
    "    h1 = tf.matmul(X, w1) + b1\n",
    "    h2 = tf.nn.relu(h1)\n",
    "    h3 = tf.nn.dropout(h2, keep_prob)\n",
    "    y = tf.matmul(h3, w2) + b2\n",
    "    return y\n",
    "\n",
    "  # Model\n",
    "  def two_NN(X):\n",
    "    return tf.matmul(tf.nn.relu(tf.matmul(X, w1) + b1), w2) + b2\n",
    "\n",
    "  # Loss and L2 Regularization\n",
    "  d_loss = tf.reduce_mean(tf.nn.softmax_cross_entropy_with_logits(two_NN_dropout(tf_train_dataset), tf_train_labels))\n",
    "  regularizers = l2_beta*(tf.nn.l2_loss(w1) + tf.nn.l2_loss(w2)) # L' = L + 1/2*beta*||wi||^2\n",
    "  loss = d_loss + regularizers\n",
    "  \n",
    "  # Optimizer (Decay Learning Rate)\n",
    "  learning_rate = tf.train.exponential_decay(starter_learning_rate, global_step, decay_steps,\n",
    "                                             decay_factor, staircase=True)\n",
    "  optimizer = tf.train.GradientDescentOptimizer(learning_rate).minimize(loss, global_step=global_step)\n",
    "  \n",
    "  # Predictions for the training, validation, and test data.\n",
    "  train_prediction = tf.nn.softmax(two_NN(tf_train_dataset))\n",
    "  valid_prediction = tf.nn.softmax(two_NN(tf_valid_dataset))\n",
    "  test_prediction = tf.nn.softmax(two_NN(tf_test_dataset))\n",
    "  \n",
    "  \n",
    "\n",
    "print('Standard Simulation')  \n",
    "run_simulation(graph, hyperparams)  \n",
    "#print('Overfitted Simulation')\n",
    "#run_overfitted_simulation(graph, hyperparams)"
   ]
  },
  {
   "cell_type": "code",
   "execution_count": null,
   "metadata": {
    "collapsed": true
   },
   "outputs": [],
   "source": []
  }
 ],
 "metadata": {
  "colab": {
   "default_view": {},
   "name": "3_regularization.ipynb",
   "provenance": [],
   "version": "0.3.2",
   "views": {}
  },
  "kernelspec": {
   "display_name": "Python 2",
   "language": "python",
   "name": "python2"
  },
  "language_info": {
   "codemirror_mode": {
    "name": "ipython",
    "version": 2
   },
   "file_extension": ".py",
   "mimetype": "text/x-python",
   "name": "python",
   "nbconvert_exporter": "python",
   "pygments_lexer": "ipython2",
   "version": "2.7.11"
  }
 },
 "nbformat": 4,
 "nbformat_minor": 0
}
